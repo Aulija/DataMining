{
  "nbformat": 4,
  "nbformat_minor": 0,
  "metadata": {
    "colab": {
      "provenance": []
    },
    "kernelspec": {
      "name": "python3",
      "display_name": "Python 3"
    },
    "language_info": {
      "name": "python"
    }
  },
  "cells": [
    {
      "cell_type": "markdown",
      "source": [
        "1. Import Libraries\n",
        "**bold text**"
      ],
      "metadata": {
        "id": "PADFcknepOoC"
      }
    },
    {
      "cell_type": "code",
      "execution_count": 88,
      "metadata": {
        "id": "AP8Ay7ZlnfcU"
      },
      "outputs": [],
      "source": [
        "import pandas as pd"
      ]
    },
    {
      "cell_type": "code",
      "source": [
        "# Langkah 1: Mount Google Drive\n",
        "from google.colab import drive\n",
        "drive.mount('/content/drive')"
      ],
      "metadata": {
        "colab": {
          "base_uri": "https://localhost:8080/"
        },
        "id": "xiIxIYURpRTP",
        "outputId": "bf2dde02-e646-4749-e18e-6f3031c03a7e"
      },
      "execution_count": 89,
      "outputs": [
        {
          "output_type": "stream",
          "name": "stdout",
          "text": [
            "Drive already mounted at /content/drive; to attempt to forcibly remount, call drive.mount(\"/content/drive\", force_remount=True).\n"
          ]
        }
      ]
    },
    {
      "cell_type": "markdown",
      "source": [
        "**2. Baca Dataset Youtube Statistic yang kotor**"
      ],
      "metadata": {
        "id": "ardCUWIKvX3d"
      }
    },
    {
      "cell_type": "code",
      "source": [
        "# Load dataset\n",
        "file_path = \"/content/drive/MyDrive/Colab Notebooks/Global_YouTube_Statistics_Messy.csv\"\n",
        "df = pd.read_csv(file_path)\n",
        ""
      ],
      "metadata": {
        "id": "k7eA2suAp3fb"
      },
      "execution_count": 90,
      "outputs": []
    },
    {
      "cell_type": "code",
      "source": [
        "# Melihat 11 data Kotor\n",
        "print(\"Messy Data:\")\n",
        "print(df.head())\n",
        "print(\"\\nInfo Messy Data:\")\n",
        "print(df.info())"
      ],
      "metadata": {
        "colab": {
          "base_uri": "https://localhost:8080/"
        },
        "id": "CZVKhJ3jrC8Z",
        "outputId": "b6c1f9b1-0753-45ec-fa4f-7d58876df999"
      },
      "execution_count": 91,
      "outputs": [
        {
          "output_type": "stream",
          "name": "stdout",
          "text": [
            "Messy Data:\n",
            "   rank                    youtuber  subscribers   video_views  \\\n",
            "0     1                    T-Series    245000000  228000000000   \n",
            "1     2              YouTube Movies    170000000             0   \n",
            "2     3                     MrBeast    166000000   28368841870   \n",
            "3     4  Cocomelon - Nursery Rhymes    162000000  164000000000   \n",
            "4     5                   SET India    159000000  148000000000   \n",
            "\n",
            "           category                       title  uploads        country  \\\n",
            "0             Music                    T-Series    20082          India   \n",
            "1  Film & Animation               youtubemovies        1  United States   \n",
            "2     Entertainment                     MrBeast      741  United States   \n",
            "3         Education  Cocomelon - Nursery Rhymes      966  United States   \n",
            "4             Shows                   SET India   116536          India   \n",
            "\n",
            "  abbreviation   channel_type  ...  subscribers_for_last_30_days  \\\n",
            "0           IN          Music  ...                       2000000   \n",
            "1           US          Games  ...                             0   \n",
            "2           US  Entertainment  ...                       8000000   \n",
            "3           US      Education  ...                       1000000   \n",
            "4           IN  Entertainment  ...                       1000000   \n",
            "\n",
            "   created_year  created_month  created_date  \\\n",
            "0          2006            Mar            13   \n",
            "1          2006            Mar             5   \n",
            "2          2012            Feb            20   \n",
            "3          2006            Sep             1   \n",
            "4          2006            Sep            20   \n",
            "\n",
            "   gross_tertiary_education_enrollment_(%)  population  unemployment_rate  \\\n",
            "0                                     28.1  1366417754               5.36   \n",
            "1                                     88.2   328239523              14.70   \n",
            "2                                     88.2   328239523              14.70   \n",
            "3                                     88.2   328239523              14.70   \n",
            "4                                     28.1  1366417754               5.36   \n",
            "\n",
            "   urban_population   latitude  longitude  \n",
            "0         471031528  20.593684  78.962880  \n",
            "1         270663028  37.090240 -95.712891  \n",
            "2         270663028  37.090240 -95.712891  \n",
            "3         270663028  37.090240 -95.712891  \n",
            "4         471031528  20.593684  78.962880  \n",
            "\n",
            "[5 rows x 28 columns]\n",
            "\n",
            "Info Messy Data:\n",
            "<class 'pandas.core.frame.DataFrame'>\n",
            "RangeIndex: 995 entries, 0 to 994\n",
            "Data columns (total 28 columns):\n",
            " #   Column                                   Non-Null Count  Dtype  \n",
            "---  ------                                   --------------  -----  \n",
            " 0   rank                                     995 non-null    int64  \n",
            " 1   youtuber                                 989 non-null    object \n",
            " 2   subscribers                              995 non-null    int64  \n",
            " 3   video_views                              995 non-null    int64  \n",
            " 4   category                                 995 non-null    object \n",
            " 5   title                                    990 non-null    object \n",
            " 6   uploads                                  995 non-null    int64  \n",
            " 7   country                                  995 non-null    object \n",
            " 8   abbreviation                             995 non-null    object \n",
            " 9   channel_type                             995 non-null    object \n",
            " 10  video_views_rank                         995 non-null    int64  \n",
            " 11  country_rank                             995 non-null    int64  \n",
            " 12  channel_type_rank                        995 non-null    int64  \n",
            " 13  video_views_for_the_last_30_days         995 non-null    int64  \n",
            " 14  lowest_monthly_earnings                  995 non-null    float64\n",
            " 15  highest_monthly_earnings                 995 non-null    float64\n",
            " 16  lowest_yearly_earnings                   995 non-null    float64\n",
            " 17  highest_yearly_earnings                  995 non-null    float64\n",
            " 18  subscribers_for_last_30_days             995 non-null    int64  \n",
            " 19  created_year                             995 non-null    int64  \n",
            " 20  created_month                            995 non-null    object \n",
            " 21  created_date                             995 non-null    int64  \n",
            " 22  gross_tertiary_education_enrollment_(%)  995 non-null    float64\n",
            " 23  population                               995 non-null    int64  \n",
            " 24  unemployment_rate                        995 non-null    float64\n",
            " 25  urban_population                         995 non-null    int64  \n",
            " 26  latitude                                 995 non-null    float64\n",
            " 27  longitude                                995 non-null    float64\n",
            "dtypes: float64(8), int64(13), object(7)\n",
            "memory usage: 217.8+ KB\n",
            "None\n"
          ]
        }
      ]
    },
    {
      "cell_type": "markdown",
      "source": [
        "**3. Menghapus Column yang tidak digunakan**"
      ],
      "metadata": {
        "id": "EQHvjJrrvpzC"
      }
    },
    {
      "cell_type": "code",
      "source": [
        "print(df.columns.tolist())\n"
      ],
      "metadata": {
        "colab": {
          "base_uri": "https://localhost:8080/"
        },
        "id": "So7IPg-Iw2e4",
        "outputId": "cbed7580-8ae8-4f97-b392-3f7d5a18db70"
      },
      "execution_count": 92,
      "outputs": [
        {
          "output_type": "stream",
          "name": "stdout",
          "text": [
            "['rank', 'youtuber', 'subscribers', 'video_views', 'category', 'title', 'uploads', 'country', 'abbreviation', 'channel_type', 'video_views_rank', 'country_rank', 'channel_type_rank', 'video_views_for_the_last_30_days', 'lowest_monthly_earnings', 'highest_monthly_earnings', 'lowest_yearly_earnings', 'highest_yearly_earnings', 'subscribers_for_last_30_days', 'created_year', 'created_month', 'created_date', 'gross_tertiary_education_enrollment_(%)', 'population', 'unemployment_rate', 'urban_population', 'latitude', 'longitude']\n"
          ]
        }
      ]
    },
    {
      "cell_type": "code",
      "source": [
        "df = df.drop(columns=[\"latitude\",\"urban_population\",\"unemployment_rate\",\"population\",\"gross_tertiary_education_enrollment_(%)\",\"created_date\",\"created_month\",\"created_year\",\"subscribers_for_last_30_days\",\"highest_yearly_earnings\",\"lowest_yearly_earnings\",\"highest_monthly_earnings\",\"lowest_monthly_earnings\",\"video_views_for_the_last_30_days\",\"channel_type_rank\",\"country_rank\"])\n",
        "\n",
        "# Simpan kembali ke CSV tanpa index\n",
        "df.to_csv(\"data_baru.csv\", index=False)"
      ],
      "metadata": {
        "id": "OwMnv3Rnrl6v"
      },
      "execution_count": 93,
      "outputs": []
    },
    {
      "cell_type": "code",
      "source": [
        "print(df.info())"
      ],
      "metadata": {
        "colab": {
          "base_uri": "https://localhost:8080/"
        },
        "id": "IlPN_ZRyvxlT",
        "outputId": "e41ec464-05e9-41ca-8059-a26c180f533f"
      },
      "execution_count": 94,
      "outputs": [
        {
          "output_type": "stream",
          "name": "stdout",
          "text": [
            "<class 'pandas.core.frame.DataFrame'>\n",
            "RangeIndex: 995 entries, 0 to 994\n",
            "Data columns (total 12 columns):\n",
            " #   Column            Non-Null Count  Dtype  \n",
            "---  ------            --------------  -----  \n",
            " 0   rank              995 non-null    int64  \n",
            " 1   youtuber          989 non-null    object \n",
            " 2   subscribers       995 non-null    int64  \n",
            " 3   video_views       995 non-null    int64  \n",
            " 4   category          995 non-null    object \n",
            " 5   title             990 non-null    object \n",
            " 6   uploads           995 non-null    int64  \n",
            " 7   country           995 non-null    object \n",
            " 8   abbreviation      995 non-null    object \n",
            " 9   channel_type      995 non-null    object \n",
            " 10  video_views_rank  995 non-null    int64  \n",
            " 11  longitude         995 non-null    float64\n",
            "dtypes: float64(1), int64(5), object(6)\n",
            "memory usage: 93.4+ KB\n",
            "None\n"
          ]
        }
      ]
    },
    {
      "cell_type": "markdown",
      "source": [
        "4. Menampilkan struktur variabel dataset\n",
        "\n",
        "\n",
        "\n",
        "\n"
      ],
      "metadata": {
        "id": "-W6ejpzyxIaJ"
      }
    },
    {
      "cell_type": "code",
      "source": [
        "column_types = df.dtypes\n",
        "print(column_types)"
      ],
      "metadata": {
        "colab": {
          "base_uri": "https://localhost:8080/"
        },
        "id": "o5_wbsQlxPry",
        "outputId": "b84e3e94-8b8d-49c8-a8c7-79af46c21bfa"
      },
      "execution_count": 95,
      "outputs": [
        {
          "output_type": "stream",
          "name": "stdout",
          "text": [
            "rank                  int64\n",
            "youtuber             object\n",
            "subscribers           int64\n",
            "video_views           int64\n",
            "category             object\n",
            "title                object\n",
            "uploads               int64\n",
            "country              object\n",
            "abbreviation         object\n",
            "channel_type         object\n",
            "video_views_rank      int64\n",
            "longitude           float64\n",
            "dtype: object\n"
          ]
        }
      ]
    },
    {
      "cell_type": "markdown",
      "source": [
        "5. Data Cleansing Column Youtuber"
      ],
      "metadata": {
        "id": "CrgEi8KfxjXK"
      }
    },
    {
      "cell_type": "markdown",
      "source": [
        "Menyamaratakan format yang ada, jika ada karakter atau font yang tidak sesuai maka akan diubah, dan jika ada spasi berlebihan"
      ],
      "metadata": {
        "id": "9efC5zWDyk9G"
      }
    },
    {
      "cell_type": "code",
      "source": [
        "import pandas as pd\n",
        "import re\n",
        "import unicodedata\n",
        "\n",
        "# Baca file CSV\n",
        "file_path = \"/content/drive/MyDrive/Colab Notebooks/Global_YouTube_Statistics_Messy.csv\"\n",
        "df = pd.read_csv(file_path)\n",
        "\n",
        "def clean_name(name):\n",
        "    if pd.isnull(name):\n",
        "        return \"\"\n",
        "\n",
        "    # Normalisasi karakter (font aneh → standar)\n",
        "    name = unicodedata.normalize(\"NFKD\", str(name))\n",
        "\n",
        "    # Rapikan spasi\n",
        "    name = re.sub(r'\\s+', ' ', name).strip()\n",
        "\n",
        "    return name\n",
        "\n",
        "# Bersihkan kolom youtuber\n",
        "df['Nama Youtuber Bersih'] = df['youtuber'].apply(clean_name)\n",
        "\n",
        "# Hapus baris yang NaN atau kosong (\"\")\n",
        "df = df.dropna(subset=['youtuber', 'Nama Youtuber Bersih'])\n",
        "df = df[df['Nama Youtuber Bersih'] != \"\"]\n",
        "\n",
        "# Urutkan berdasarkan nama bersih (A-Z)\n",
        "df_sorted = df.sort_values(by='Nama Youtuber Bersih', ascending=True).reset_index(drop=True)\n",
        "\n",
        "# Lihat hasil\n",
        "print(df_sorted[['youtuber', 'Nama Youtuber Bersih']].head(20))\n"
      ],
      "metadata": {
        "colab": {
          "base_uri": "https://localhost:8080/"
        },
        "id": "dDX6ACWsxjGW",
        "outputId": "d34a784a-41ec-412d-ea94-b166189d385d"
      },
      "execution_count": 96,
      "outputs": [
        {
          "output_type": "stream",
          "name": "stdout",
          "text": [
            "                         youtuber           Nama Youtuber Bersih\n",
            "0                            #Ref                           #Ref\n",
            "1                 #Refugio Mental                #Refugio Mental\n",
            "2                      - Al-Remas                     - Al-Remas\n",
            "3         - Genevieve's Playhouse        - Genevieve's Playhouse\n",
            "4                           /Atro                          /Atro\n",
            "5                 123 GO! Spanish                123 GO! Spanish\n",
            "6           1MILLION Dance Studio          1MILLION Dance Studio\n",
            "7                         1theK (                        1theK (\n",
            "8                               5                              5\n",
            "9                 5-Minute Crafts                5-Minute Crafts\n",
            "10            5-Minute Crafts DIY            5-Minute Crafts DIY\n",
            "11         5-Minute Crafts FAMILY         5-Minute Crafts FAMILY\n",
            "12           5-Minute Crafts PLAY           5-Minute Crafts PLAY\n",
            "13        5-Minute Crafts Recycle        5-Minute Crafts Recycle\n",
            "14                        50 Cent                        50 Cent\n",
            "15                      7 Minutoz                      7 Minutoz\n",
            "16                        7clouds                        7clouds\n",
            "17                   8 : Thai Ch8                   8 : Thai Ch8\n",
            "18  A2 Motivation by Arvind Arora  A2 Motivation by Arvind Arora\n",
            "19                             A4                             A4\n"
          ]
        }
      ]
    },
    {
      "cell_type": "markdown",
      "source": [
        "6. Data Cleansing Column Subscriber"
      ],
      "metadata": {
        "id": "PQtkc4ciyykI"
      }
    },
    {
      "cell_type": "markdown",
      "source": [
        "Memberikan format ribu pada subsribers yang diatas ratusan, dengan memberi tanda koma pada kelipatan seribu"
      ],
      "metadata": {
        "id": "RFz5in1kzIkW"
      }
    },
    {
      "cell_type": "code",
      "source": [
        "# Pastikan kolom subscriber berupa angka\n",
        "df['subscribers'] = pd.to_numeric(df['subscribers'], errors='coerce')\n",
        "\n",
        "# Format pakai koma pemisah ribuan\n",
        "df['subscribers_formatted'] = df['subscribers'].apply(\n",
        "    lambda x: \"{:,}\".format(int(x)) if pd.notnull(x) else \"\"\n",
        ")\n",
        "\n",
        "# Urutkan berdasarkan subscribers (descending: terbesar -> terkecil)\n",
        "df_sorted = df.sort_values(by='subscribers', ascending=False).reset_index(drop=True)\n",
        "\n",
        "# Cek hasil\n",
        "print(df_sorted[['subscribers', 'subscribers_formatted']].head(20))\n"
      ],
      "metadata": {
        "colab": {
          "base_uri": "https://localhost:8080/"
        },
        "id": "DcCYowSgy3wk",
        "outputId": "22a7242a-55e7-4d83-a4be-9db227d06408"
      },
      "execution_count": 97,
      "outputs": [
        {
          "output_type": "stream",
          "name": "stdout",
          "text": [
            "    subscribers subscribers_formatted\n",
            "0     245000000           245,000,000\n",
            "1     170000000           170,000,000\n",
            "2     166000000           166,000,000\n",
            "3     162000000           162,000,000\n",
            "4     159000000           159,000,000\n",
            "5     119000000           119,000,000\n",
            "6     112000000           112,000,000\n",
            "7     111000000           111,000,000\n",
            "8     106000000           106,000,000\n",
            "9      98900000            98,900,000\n",
            "10     96700000            96,700,000\n",
            "11     96000000            96,000,000\n",
            "12     93600000            93,600,000\n",
            "13     89800000            89,800,000\n",
            "14     86900000            86,900,000\n",
            "15     83000000            83,000,000\n",
            "16     80100000            80,100,000\n",
            "17     75600000            75,600,000\n",
            "18     75000000            75,000,000\n",
            "19     71600000            71,600,000\n"
          ]
        }
      ]
    },
    {
      "cell_type": "markdown",
      "source": [
        "7. Data Cleansing Column Video Views"
      ],
      "metadata": {
        "id": "Od3cCY8YzRzq"
      }
    },
    {
      "cell_type": "markdown",
      "source": [
        "Memberikan format ribu pada subsribers yang diatas ratusan, dengan memberi tanda koma pada kelipatan seribu"
      ],
      "metadata": {
        "id": "0y__dReuzarW"
      }
    },
    {
      "cell_type": "code",
      "source": [
        "# Pastikan kolom video_views berupa angka\n",
        "df['video_views'] = pd.to_numeric(df['video_views'], errors='coerce')\n",
        "\n",
        "# Buang baris dengan nilai 0 atau NaN\n",
        "df = df[df['video_views'] > 0]\n",
        "\n",
        "# Format pakai koma pemisah ribuan\n",
        "df['video_views_formatted'] = df['video_views'].apply(\n",
        "    lambda x: \"{:,}\".format(int(x)) if pd.notnull(x) else \"\"\n",
        ")\n",
        "\n",
        "# Urutkan berdasarkan video_views (descending: terbesar -> terkecil)\n",
        "df_sorted = df.sort_values(by='video_views', ascending=False).reset_index(drop=True)\n",
        "\n",
        "# Cek hasil\n",
        "print(df_sorted[['video_views', 'video_views_formatted']].head(20))\n"
      ],
      "metadata": {
        "colab": {
          "base_uri": "https://localhost:8080/"
        },
        "id": "RfE07VhXzRaE",
        "outputId": "e3bb654d-4004-4bc6-c205-6e3595d45dc8"
      },
      "execution_count": 98,
      "outputs": [
        {
          "output_type": "stream",
          "name": "stdout",
          "text": [
            "     video_views video_views_formatted\n",
            "0   228000000000       228,000,000,000\n",
            "1   164000000000       164,000,000,000\n",
            "2   148000000000       148,000,000,000\n",
            "3   101000000000       101,000,000,000\n",
            "4    93247040539        93,247,040,539\n",
            "5    90479060027        90,479,060,027\n",
            "6    77428473662        77,428,473,662\n",
            "7    77180169894        77,180,169,894\n",
            "8    73139054467        73,139,054,467\n",
            "9    61510906457        61,510,906,457\n",
            "10   59316472754        59,316,472,754\n",
            "11   57856289381        57,856,289,381\n",
            "12   57271630846        57,271,630,846\n",
            "13   56106087508        56,106,087,508\n",
            "14   55299840198        55,299,840,198\n",
            "15   50292540392        50,292,540,392\n",
            "16   47005053156        47,005,053,156\n",
            "17   45757850229        45,757,850,229\n",
            "18   44900897958        44,900,897,958\n",
            "19   41139050371        41,139,050,371\n"
          ]
        }
      ]
    },
    {
      "cell_type": "markdown",
      "source": [
        "8. Data Cleansing Column Category"
      ],
      "metadata": {
        "id": "qPoP5gIaztnJ"
      }
    },
    {
      "cell_type": "markdown",
      "source": [
        "Memperbaiki dan membersihkan jika ada karakter yang tidak kapital, jika ada spasi berlebih"
      ],
      "metadata": {
        "id": "Ka-Qzwz10N6V"
      }
    },
    {
      "cell_type": "code",
      "source": [
        "# Simpan kolom asli\n",
        "df['category_raw'] = df['category']\n",
        "\n",
        "# Rapikan category: hapus spasi berlebih & ubah ke Title Case\n",
        "df['category_clean'] = (\n",
        "    df['category_raw']\n",
        "    .astype(str)                                 # pastikan string\n",
        "    .str.replace(r'\\s+', ' ', regex=True)        # rapikan spasi\n",
        "    .str.strip()                                 # buang spasi depan/belakang\n",
        "    .str.title()                                 # kapital di awal tiap kata\n",
        ")\n",
        "\n",
        "# Hapus kategori 'Unknown' atau kosong\n",
        "df = df[~df['category_clean'].str.lower().isin(['unknown', ''])]\n",
        "\n",
        "# Urutkan berdasarkan category_clean (A-Z)\n",
        "df_sorted = df.sort_values(by='category_clean', ascending=True).reset_index(drop=True)\n",
        "\n",
        "# Lihat perbandingan hasil\n",
        "print(df_sorted[['category_raw', 'category_clean']].head(20))\n"
      ],
      "metadata": {
        "colab": {
          "base_uri": "https://localhost:8080/"
        },
        "id": "5VSwy6o0z0b5",
        "outputId": "3e60f854-a6f8-48a8-ba4d-8d203a099bfd"
      },
      "execution_count": 99,
      "outputs": [
        {
          "output_type": "stream",
          "name": "stdout",
          "text": [
            "        category_raw    category_clean\n",
            "0   Autos & Vehicles  Autos & Vehicles\n",
            "1   Autos & Vehicles  Autos & Vehicles\n",
            "2             Comedy            Comedy\n",
            "3             Comedy            Comedy\n",
            "4             Comedy            Comedy\n",
            "5             Comedy            Comedy\n",
            "6             Comedy            Comedy\n",
            "7             Comedy            Comedy\n",
            "8             Comedy            Comedy\n",
            "9             Comedy            Comedy\n",
            "10            Comedy            Comedy\n",
            "11            Comedy            Comedy\n",
            "12            Comedy            Comedy\n",
            "13            Comedy            Comedy\n",
            "14            Comedy            Comedy\n",
            "15            Comedy            Comedy\n",
            "16            Comedy            Comedy\n",
            "17            Comedy            Comedy\n",
            "18            Comedy            Comedy\n",
            "19            Comedy            Comedy\n"
          ]
        }
      ]
    },
    {
      "cell_type": "markdown",
      "source": [
        "9. Data Cleansing Column Title"
      ],
      "metadata": {
        "id": "yxMXPL7L0XSE"
      }
    },
    {
      "cell_type": "markdown",
      "source": [
        "Memperbaiki dan membersihkan jika ada karakter yang tidak kapital, jika ada spasi berlebih"
      ],
      "metadata": {
        "id": "I3WYfUb90mKB"
      }
    },
    {
      "cell_type": "code",
      "source": [
        "# Simpan kolom asli\n",
        "df['title_raw'] = df['title']\n",
        "\n",
        "# Rapikan title: hapus spasi berlebih & ubah ke Title Case\n",
        "df['title_clean'] = (\n",
        "    df['title_raw']\n",
        "    .astype(str)                                 # pastikan string\n",
        "    .str.replace(r'\\s+', ' ', regex=True)        # rapikan spasi\n",
        "    .str.strip()                                 # buang spasi depan/belakang\n",
        "    .str.title()                                 # kapital di awal tiap kata\n",
        ")\n",
        "\n",
        "# Hapus title 'Unknown' atau kosong\n",
        "df = df[~df['title_clean'].str.lower().isin(['unknown', ''])]\n",
        "\n",
        "# Urutkan berdasarkan title_clean (A-Z)\n",
        "df_sorted = df.sort_values(by='title_clean', ascending=True).reset_index(drop=True)\n",
        "\n",
        "# Lihat perbandingan hasil\n",
        "print(df_sorted[['title_raw', 'title_clean']].head(20))\n"
      ],
      "metadata": {
        "colab": {
          "base_uri": "https://localhost:8080/"
        },
        "id": "sS7A4V2l0W2X",
        "outputId": "9da5c784-58a2-465c-cc26-0eef1d4ef1db"
      },
      "execution_count": 100,
      "outputs": [
        {
          "output_type": "stream",
          "name": "stdout",
          "text": [
            "                   title_raw              title_clean\n",
            "0            #Refugio Mental          #Refugio Mental\n",
            "1            #Refugio Mental          #Refugio Mental\n",
            "2                 - Al-Remas               - Al-Remas\n",
            "3    - Genevieve's Playhouse  - Genevieve'S Playhouse\n",
            "4                      /Atro                    /Atro\n",
            "5            123 GO! Spanish          123 Go! Spanish\n",
            "6      1MILLION Dance Studio    1Million Dance Studio\n",
            "7                    1theK (                  1Thek (\n",
            "8                  21 Savage                21 Savage\n",
            "9                         24                       24\n",
            "10                         5                        5\n",
            "11       5-Minute Crafts 2.0      5-Minute Crafts 2.0\n",
            "12       5-Minute Crafts DIY      5-Minute Crafts Diy\n",
            "13    5-Minute Crafts FAMILY   5-Minute Crafts Family\n",
            "14      5-Minute Crafts PLAY     5-Minute Crafts Play\n",
            "15   5-Minute Crafts Recycle  5-Minute Crafts Recycle\n",
            "16                   50 Cent                  50 Cent\n",
            "17                 7 Minutoz                7 Minutoz\n",
            "18                   7clouds                  7Clouds\n",
            "19              8 : Thai Ch8             8 : Thai Ch8\n"
          ]
        }
      ]
    },
    {
      "cell_type": "markdown",
      "source": [
        "10. Data Cleansing Column Upload"
      ],
      "metadata": {
        "id": "A2RtFwuO0nUE"
      }
    },
    {
      "cell_type": "markdown",
      "source": [
        "Memberikan format ribu pada subsribers yang diatas ratusan, dengan memberi tanda koma pada kelipatan seribu"
      ],
      "metadata": {
        "id": "UF05eaA_07xC"
      }
    },
    {
      "cell_type": "code",
      "source": [
        "# Pastikan kolom uploads berupa angka\n",
        "df['uploads'] = pd.to_numeric(df['uploads'], errors='coerce')\n",
        "\n",
        "# Hapus baris dengan uploads 0 atau NaN\n",
        "df = df[df['uploads'] > 0]\n",
        "\n",
        "# Format pakai koma pemisah ribuan\n",
        "df['uploads_formatted'] = df['uploads'].apply(lambda x: \"{:,}\".format(int(x)) if pd.notnull(x) else \"\")\n",
        "\n",
        "# Urutkan berdasarkan uploads (descending)\n",
        "df_sorted = df.sort_values(by='uploads', ascending=False).reset_index(drop=True)\n",
        "\n",
        "# Cek hasil\n",
        "print(df[['uploads', 'uploads_formatted']].head(20))\n",
        "\n"
      ],
      "metadata": {
        "colab": {
          "base_uri": "https://localhost:8080/"
        },
        "id": "2RNO6QkY0n1R",
        "outputId": "b335476d-1052-4d4f-ab42-d79f8526185e"
      },
      "execution_count": 101,
      "outputs": [
        {
          "output_type": "stream",
          "name": "stdout",
          "text": [
            "    uploads uploads_formatted\n",
            "0     20082            20,082\n",
            "2       741               741\n",
            "3       966               966\n",
            "4    116536           116,536\n",
            "6      1111             1,111\n",
            "7      4716             4,716\n",
            "8       493               493\n",
            "9       574               574\n",
            "10     8548             8,548\n",
            "11    70127            70,127\n",
            "13      543               543\n",
            "14        1                 1\n",
            "15    71270            71,270\n",
            "16        1                 1\n",
            "17     2281             2,281\n",
            "19      249               249\n",
            "20     1337             1,337\n",
            "21   129204           129,204\n",
            "22     2865             2,865\n",
            "23     2572             2,572\n"
          ]
        }
      ]
    },
    {
      "cell_type": "markdown",
      "source": [
        "11. Data Cleansing Column Country"
      ],
      "metadata": {
        "id": "UI3ZkxPA0m5G"
      }
    },
    {
      "cell_type": "markdown",
      "source": [
        "Memperbaiki dan membersihkan jika ada karakter yang tidak kapital, jika ada spasi berlebih"
      ],
      "metadata": {
        "id": "zT7SEGp01Dpl"
      }
    },
    {
      "cell_type": "code",
      "source": [
        "# Simpan kolom asli\n",
        "df['country_raw'] = df['country']\n",
        "\n",
        "# Rapikan country: hapus spasi berlebih & ubah ke Title Case\n",
        "df['country_clean'] = (\n",
        "    df['country_raw']\n",
        "    .astype(str)                                 # pastikan string\n",
        "    .str.replace(r'\\s+', ' ', regex=True)        # rapikan spasi\n",
        "    .str.strip()                                 # buang spasi depan/belakang\n",
        "    .str.title()                                 # kapital di awal tiap kata\n",
        ")\n",
        "\n",
        "# Hapus country 'Unknown' atau kosong\n",
        "df = df[~df['country_clean'].str.lower().isin(['unknown', ''])]\n",
        "\n",
        "# Urutkan berdasarkan country_clean (A-Z)\n",
        "df_sorted = df.sort_values(by='country_clean', ascending=True).reset_index(drop=True)\n",
        "\n",
        "# Lihat perbandingan hasil\n",
        "print(df_sorted[['country_raw', 'country_clean']].head(20))\n"
      ],
      "metadata": {
        "colab": {
          "base_uri": "https://localhost:8080/"
        },
        "id": "G881XA4r1D8I",
        "outputId": "b91750e3-1e9c-4e64-8e0e-da7dc2f0270c"
      },
      "execution_count": 102,
      "outputs": [
        {
          "output_type": "stream",
          "name": "stdout",
          "text": [
            "   country_raw country_clean\n",
            "0      Andorra       Andorra\n",
            "1    Argentina     Argentina\n",
            "2    Argentina     Argentina\n",
            "3    Argentina     Argentina\n",
            "4    Argentina     Argentina\n",
            "5    Argentina     Argentina\n",
            "6    Argentina     Argentina\n",
            "7    Argentina     Argentina\n",
            "8    Argentina     Argentina\n",
            "9    Argentina     Argentina\n",
            "10   Argentina     Argentina\n",
            "11   Argentina     Argentina\n",
            "12   Argentina     Argentina\n",
            "13   Argentina     Argentina\n",
            "14   Australia     Australia\n",
            "15   Australia     Australia\n",
            "16   Australia     Australia\n",
            "17   Australia     Australia\n",
            "18   Australia     Australia\n",
            "19   Australia     Australia\n"
          ]
        }
      ]
    },
    {
      "cell_type": "markdown",
      "source": [
        "12. Data Cleansing Column Channel Type"
      ],
      "metadata": {
        "id": "6GUeytdi1ZOV"
      }
    },
    {
      "cell_type": "markdown",
      "source": [
        "Memperbaiki dan membersihkan jika ada karakter yang tidak kapital, jika ada spasi berlebih"
      ],
      "metadata": {
        "id": "E6CQWD961n_h"
      }
    },
    {
      "cell_type": "code",
      "source": [
        "# Simpan kolom asli\n",
        "df['channel_type_raw'] = df['channel_type']\n",
        "\n",
        "# Rapikan channel_type: hapus spasi berlebih & ubah ke Title Case\n",
        "df['channel_type_clean'] = (\n",
        "    df['channel_type_raw']\n",
        "    .astype(str)                                 # pastikan string\n",
        "    .str.replace(r'\\s+', ' ', regex=True)        # rapikan spasi\n",
        "    .str.strip()                                 # buang spasi depan/belakang\n",
        "    .str.title()                                 # kapital di awal tiap kata\n",
        ")\n",
        "\n",
        "# Hapus channel_type 'Unknown' atau kosong\n",
        "df = df[~df['channel_type_clean'].str.lower().isin(['unknown', ''])]\n",
        "\n",
        "# Urutkan berdasarkan channel_type_clean (A-Z)\n",
        "df_sorted = df.sort_values(by='channel_type_clean', ascending=True).reset_index(drop=True)\n",
        "\n",
        "# Lihat perbandingan hasil\n",
        "print(df_sorted[['channel_type_raw', 'channel_type_clean']].head(20))\n"
      ],
      "metadata": {
        "colab": {
          "base_uri": "https://localhost:8080/"
        },
        "id": "KS5ZCuOq1Zjy",
        "outputId": "99e31294-a63e-449e-ab5d-aa497867b904"
      },
      "execution_count": 103,
      "outputs": [
        {
          "output_type": "stream",
          "name": "stdout",
          "text": [
            "   channel_type_raw channel_type_clean\n",
            "0           Animals            Animals\n",
            "1           Animals            Animals\n",
            "2           Animals            Animals\n",
            "3             Autos              Autos\n",
            "4             Autos              Autos\n",
            "5            Comedy             Comedy\n",
            "6            Comedy             Comedy\n",
            "7            Comedy             Comedy\n",
            "8            Comedy             Comedy\n",
            "9            Comedy             Comedy\n",
            "10           Comedy             Comedy\n",
            "11           Comedy             Comedy\n",
            "12           Comedy             Comedy\n",
            "13           Comedy             Comedy\n",
            "14           Comedy             Comedy\n",
            "15           Comedy             Comedy\n",
            "16           Comedy             Comedy\n",
            "17           Comedy             Comedy\n",
            "18           Comedy             Comedy\n",
            "19           Comedy             Comedy\n"
          ]
        }
      ]
    },
    {
      "cell_type": "markdown",
      "source": [
        "13. Data Cleansing Column Video Views Rank"
      ],
      "metadata": {
        "id": "yUJ28LyE1rS0"
      }
    },
    {
      "cell_type": "code",
      "source": [
        "# Pastikan kolom subscriber berupa angka\n",
        "df['video_views_rank'] = pd.to_numeric(df['video_views_rank'], errors='coerce')\n",
        "\n",
        "# Format pakai koma pemisah ribuan\n",
        "df['video_views_rank_formatted'] = df['video_views_rank'].apply(lambda x: \"{:,}\".format(int(x)) if pd.notnull(x) else \"\")\n",
        "# Urutkan berdasarkan video_views (descending: terbesar -> terkecil)\n",
        "df_sorted = df.sort_values(by='video_views_rank', ascending=False).reset_index(drop=True)\n",
        "# Cek hasil\n",
        "print(df[['video_views_rank', 'video_views_rank_formatted']].head(20))"
      ],
      "metadata": {
        "colab": {
          "base_uri": "https://localhost:8080/"
        },
        "id": "AY5DAqzL1rkY",
        "outputId": "c9da2867-4a53-4dd2-a21a-65e6cfaac503"
      },
      "execution_count": 104,
      "outputs": [
        {
          "output_type": "stream",
          "name": "stdout",
          "text": [
            "    video_views_rank video_views_rank_formatted\n",
            "0                  1                          1\n",
            "2                 48                         48\n",
            "3                  2                          2\n",
            "4                  3                          3\n",
            "6                  5                          5\n",
            "7                 44                         44\n",
            "8                630                        630\n",
            "9                  8                          8\n",
            "10                12                         12\n",
            "11                 7                          7\n",
            "13                32                         32\n",
            "15                 4                          4\n",
            "16           4057901                  4,057,901\n",
            "17               112                        112\n",
            "19                38                         38\n",
            "20                46                         46\n",
            "21                 9                          9\n",
            "22                23                         23\n",
            "23                25                         25\n",
            "24                18                         18\n"
          ]
        }
      ]
    },
    {
      "cell_type": "markdown",
      "source": [
        "14. Duplikasi Data"
      ],
      "metadata": {
        "id": "oD5GTfsy2EuF"
      }
    },
    {
      "cell_type": "markdown",
      "source": [
        "Menghapus jika terdapat data atau row yang sama"
      ],
      "metadata": {
        "id": "tysm_PZn2Je5"
      }
    },
    {
      "cell_type": "code",
      "source": [
        "import pandas as pd\n",
        "from IPython.display import display\n",
        "\n",
        "# Pilih hanya kolom hasil cleansing\n",
        "df_final = df_clean[[\n",
        "    'rank',\n",
        "    'youtuber',\n",
        "    'subscribers_formatted',   # hasil cleansing subscribers\n",
        "    'video_views_formatted',   # hasil cleansing views\n",
        "    'category_clean',\n",
        "    'title_clean',\n",
        "    'uploads_formatted',\n",
        "    'country_clean',\n",
        "    'channel_type_clean'\n",
        "]]\n",
        "\n",
        "# Lihat hasilnya\n",
        "print(\"Jumlah data setelah cleansing:\", len(df_final))\n",
        "display(df_final.head(20))\n"
      ],
      "metadata": {
        "colab": {
          "base_uri": "https://localhost:8080/",
          "height": 815
        },
        "id": "BG1vqsua2OTJ",
        "outputId": "99e264a7-bb45-4d64-d7a7-dad39b8178de"
      },
      "execution_count": 105,
      "outputs": [
        {
          "output_type": "stream",
          "name": "stdout",
          "text": [
            "Jumlah data setelah cleansing: 812\n"
          ]
        },
        {
          "output_type": "display_data",
          "data": {
            "text/plain": [
              "    rank                                     youtuber subscribers_formatted  \\\n",
              "0      1                                     T-Series           245,000,000   \n",
              "2      3                                      MrBeast           166,000,000   \n",
              "3      4                   Cocomelon - Nursery Rhymes           162,000,000   \n",
              "4      5                                    SET India           159,000,000   \n",
              "6      7                              Kids Diana Show           112,000,000   \n",
              "7      8                                    PewDiePie           111,000,000   \n",
              "8      9                                  Like Nastya           106,000,000   \n",
              "9     10                                Vlad and Niki            98,900,000   \n",
              "10    11                            Zee Music Company            96,700,000   \n",
              "11    12                                          WWE            96,000,000   \n",
              "13    14                                    BLACKPINK            89,800,000   \n",
              "15    16                                     Sony SAB            83,000,000   \n",
              "16    17                              5-Minute Crafts            80,100,000   \n",
              "17    18                                    BANGTANTV            75,600,000   \n",
              "19    20                                Justin Bieber            71,600,000   \n",
              "20    21                                  HYBE LABELS            71,300,000   \n",
              "21    22                                       Zee TV            70,500,000   \n",
              "22    23  Pinkfong Baby Shark - Kids' Songs & Stories            68,200,000   \n",
              "23    24                              Canal KondZilla            66,500,000   \n",
              "24    25        ChuChu TV Nursery Rhymes & Kids Songs            65,900,000   \n",
              "\n",
              "   video_views_formatted  category_clean  \\\n",
              "0        228,000,000,000           Music   \n",
              "2         28,368,841,870   Entertainment   \n",
              "3        164,000,000,000       Education   \n",
              "4        148,000,000,000           Shows   \n",
              "6         93,247,040,539  People & Blogs   \n",
              "7         29,058,044,447          Gaming   \n",
              "8         90,479,060,027  People & Blogs   \n",
              "9         77,180,169,894   Entertainment   \n",
              "10        57,856,289,381           Music   \n",
              "11        77,428,473,662          Sports   \n",
              "13        32,144,597,566  People & Blogs   \n",
              "15       101,000,000,000           Shows   \n",
              "16        26,236,790,209   Howto & Style   \n",
              "17        20,826,993,957           Music   \n",
              "19        30,608,119,724           Music   \n",
              "20        28,634,566,938           Music   \n",
              "21        73,139,054,467   Entertainment   \n",
              "22        38,843,229,963       Education   \n",
              "23        36,775,585,925           Music   \n",
              "24        45,757,850,229       Education   \n",
              "\n",
              "                                    title_clean uploads_formatted  \\\n",
              "0                                      T-Series            20,082   \n",
              "2                                       Mrbeast               741   \n",
              "3                    Cocomelon - Nursery Rhymes               966   \n",
              "4                                     Set India           116,536   \n",
              "6                               Kids Diana Show             1,111   \n",
              "7                                     Pewdiepie             4,716   \n",
              "8                              Like Nastya Vlog               493   \n",
              "9                                 Vlad And Niki               574   \n",
              "10                            Zee Music Company             8,548   \n",
              "11                                          Wwe            70,127   \n",
              "13                                    Blackpink               543   \n",
              "15                                     Sony Sab            71,270   \n",
              "16                          5-Minute Crafts 2.0                 1   \n",
              "17                                    Bangtantv             2,281   \n",
              "19                                Justin Bieber               249   \n",
              "20                                  Hybe Labels             1,337   \n",
              "21                                       Zee Tv           129,204   \n",
              "22  Pinkfong Baby Shark - Kids' Songs & Stories             2,865   \n",
              "23                              Canal Kondzilla             2,572   \n",
              "24        Chuchu Tv Nursery Rhymes & Kids Songs               633   \n",
              "\n",
              "     country_clean channel_type_clean  \n",
              "0            India              Music  \n",
              "2    United States      Entertainment  \n",
              "3    United States          Education  \n",
              "4            India      Entertainment  \n",
              "6    United States      Entertainment  \n",
              "7            Japan      Entertainment  \n",
              "8           Russia             People  \n",
              "9    United States      Entertainment  \n",
              "10           India              Music  \n",
              "11   United States             Sports  \n",
              "13     South Korea              Music  \n",
              "15           India      Entertainment  \n",
              "16  United Kingdom      Entertainment  \n",
              "17     South Korea              Music  \n",
              "19          Canada              Music  \n",
              "20     South Korea              Music  \n",
              "21           India      Entertainment  \n",
              "22   United States          Education  \n",
              "23          Brazil              Music  \n",
              "24           India          Education  "
            ],
            "text/html": [
              "\n",
              "  <div id=\"df-1690c7e3-c9a4-4de5-80f2-edd52e59b6dc\" class=\"colab-df-container\">\n",
              "    <div>\n",
              "<style scoped>\n",
              "    .dataframe tbody tr th:only-of-type {\n",
              "        vertical-align: middle;\n",
              "    }\n",
              "\n",
              "    .dataframe tbody tr th {\n",
              "        vertical-align: top;\n",
              "    }\n",
              "\n",
              "    .dataframe thead th {\n",
              "        text-align: right;\n",
              "    }\n",
              "</style>\n",
              "<table border=\"1\" class=\"dataframe\">\n",
              "  <thead>\n",
              "    <tr style=\"text-align: right;\">\n",
              "      <th></th>\n",
              "      <th>rank</th>\n",
              "      <th>youtuber</th>\n",
              "      <th>subscribers_formatted</th>\n",
              "      <th>video_views_formatted</th>\n",
              "      <th>category_clean</th>\n",
              "      <th>title_clean</th>\n",
              "      <th>uploads_formatted</th>\n",
              "      <th>country_clean</th>\n",
              "      <th>channel_type_clean</th>\n",
              "    </tr>\n",
              "  </thead>\n",
              "  <tbody>\n",
              "    <tr>\n",
              "      <th>0</th>\n",
              "      <td>1</td>\n",
              "      <td>T-Series</td>\n",
              "      <td>245,000,000</td>\n",
              "      <td>228,000,000,000</td>\n",
              "      <td>Music</td>\n",
              "      <td>T-Series</td>\n",
              "      <td>20,082</td>\n",
              "      <td>India</td>\n",
              "      <td>Music</td>\n",
              "    </tr>\n",
              "    <tr>\n",
              "      <th>2</th>\n",
              "      <td>3</td>\n",
              "      <td>MrBeast</td>\n",
              "      <td>166,000,000</td>\n",
              "      <td>28,368,841,870</td>\n",
              "      <td>Entertainment</td>\n",
              "      <td>Mrbeast</td>\n",
              "      <td>741</td>\n",
              "      <td>United States</td>\n",
              "      <td>Entertainment</td>\n",
              "    </tr>\n",
              "    <tr>\n",
              "      <th>3</th>\n",
              "      <td>4</td>\n",
              "      <td>Cocomelon - Nursery Rhymes</td>\n",
              "      <td>162,000,000</td>\n",
              "      <td>164,000,000,000</td>\n",
              "      <td>Education</td>\n",
              "      <td>Cocomelon - Nursery Rhymes</td>\n",
              "      <td>966</td>\n",
              "      <td>United States</td>\n",
              "      <td>Education</td>\n",
              "    </tr>\n",
              "    <tr>\n",
              "      <th>4</th>\n",
              "      <td>5</td>\n",
              "      <td>SET India</td>\n",
              "      <td>159,000,000</td>\n",
              "      <td>148,000,000,000</td>\n",
              "      <td>Shows</td>\n",
              "      <td>Set India</td>\n",
              "      <td>116,536</td>\n",
              "      <td>India</td>\n",
              "      <td>Entertainment</td>\n",
              "    </tr>\n",
              "    <tr>\n",
              "      <th>6</th>\n",
              "      <td>7</td>\n",
              "      <td>Kids Diana Show</td>\n",
              "      <td>112,000,000</td>\n",
              "      <td>93,247,040,539</td>\n",
              "      <td>People &amp; Blogs</td>\n",
              "      <td>Kids Diana Show</td>\n",
              "      <td>1,111</td>\n",
              "      <td>United States</td>\n",
              "      <td>Entertainment</td>\n",
              "    </tr>\n",
              "    <tr>\n",
              "      <th>7</th>\n",
              "      <td>8</td>\n",
              "      <td>PewDiePie</td>\n",
              "      <td>111,000,000</td>\n",
              "      <td>29,058,044,447</td>\n",
              "      <td>Gaming</td>\n",
              "      <td>Pewdiepie</td>\n",
              "      <td>4,716</td>\n",
              "      <td>Japan</td>\n",
              "      <td>Entertainment</td>\n",
              "    </tr>\n",
              "    <tr>\n",
              "      <th>8</th>\n",
              "      <td>9</td>\n",
              "      <td>Like Nastya</td>\n",
              "      <td>106,000,000</td>\n",
              "      <td>90,479,060,027</td>\n",
              "      <td>People &amp; Blogs</td>\n",
              "      <td>Like Nastya Vlog</td>\n",
              "      <td>493</td>\n",
              "      <td>Russia</td>\n",
              "      <td>People</td>\n",
              "    </tr>\n",
              "    <tr>\n",
              "      <th>9</th>\n",
              "      <td>10</td>\n",
              "      <td>Vlad and Niki</td>\n",
              "      <td>98,900,000</td>\n",
              "      <td>77,180,169,894</td>\n",
              "      <td>Entertainment</td>\n",
              "      <td>Vlad And Niki</td>\n",
              "      <td>574</td>\n",
              "      <td>United States</td>\n",
              "      <td>Entertainment</td>\n",
              "    </tr>\n",
              "    <tr>\n",
              "      <th>10</th>\n",
              "      <td>11</td>\n",
              "      <td>Zee Music Company</td>\n",
              "      <td>96,700,000</td>\n",
              "      <td>57,856,289,381</td>\n",
              "      <td>Music</td>\n",
              "      <td>Zee Music Company</td>\n",
              "      <td>8,548</td>\n",
              "      <td>India</td>\n",
              "      <td>Music</td>\n",
              "    </tr>\n",
              "    <tr>\n",
              "      <th>11</th>\n",
              "      <td>12</td>\n",
              "      <td>WWE</td>\n",
              "      <td>96,000,000</td>\n",
              "      <td>77,428,473,662</td>\n",
              "      <td>Sports</td>\n",
              "      <td>Wwe</td>\n",
              "      <td>70,127</td>\n",
              "      <td>United States</td>\n",
              "      <td>Sports</td>\n",
              "    </tr>\n",
              "    <tr>\n",
              "      <th>13</th>\n",
              "      <td>14</td>\n",
              "      <td>BLACKPINK</td>\n",
              "      <td>89,800,000</td>\n",
              "      <td>32,144,597,566</td>\n",
              "      <td>People &amp; Blogs</td>\n",
              "      <td>Blackpink</td>\n",
              "      <td>543</td>\n",
              "      <td>South Korea</td>\n",
              "      <td>Music</td>\n",
              "    </tr>\n",
              "    <tr>\n",
              "      <th>15</th>\n",
              "      <td>16</td>\n",
              "      <td>Sony SAB</td>\n",
              "      <td>83,000,000</td>\n",
              "      <td>101,000,000,000</td>\n",
              "      <td>Shows</td>\n",
              "      <td>Sony Sab</td>\n",
              "      <td>71,270</td>\n",
              "      <td>India</td>\n",
              "      <td>Entertainment</td>\n",
              "    </tr>\n",
              "    <tr>\n",
              "      <th>16</th>\n",
              "      <td>17</td>\n",
              "      <td>5-Minute Crafts</td>\n",
              "      <td>80,100,000</td>\n",
              "      <td>26,236,790,209</td>\n",
              "      <td>Howto &amp; Style</td>\n",
              "      <td>5-Minute Crafts 2.0</td>\n",
              "      <td>1</td>\n",
              "      <td>United Kingdom</td>\n",
              "      <td>Entertainment</td>\n",
              "    </tr>\n",
              "    <tr>\n",
              "      <th>17</th>\n",
              "      <td>18</td>\n",
              "      <td>BANGTANTV</td>\n",
              "      <td>75,600,000</td>\n",
              "      <td>20,826,993,957</td>\n",
              "      <td>Music</td>\n",
              "      <td>Bangtantv</td>\n",
              "      <td>2,281</td>\n",
              "      <td>South Korea</td>\n",
              "      <td>Music</td>\n",
              "    </tr>\n",
              "    <tr>\n",
              "      <th>19</th>\n",
              "      <td>20</td>\n",
              "      <td>Justin Bieber</td>\n",
              "      <td>71,600,000</td>\n",
              "      <td>30,608,119,724</td>\n",
              "      <td>Music</td>\n",
              "      <td>Justin Bieber</td>\n",
              "      <td>249</td>\n",
              "      <td>Canada</td>\n",
              "      <td>Music</td>\n",
              "    </tr>\n",
              "    <tr>\n",
              "      <th>20</th>\n",
              "      <td>21</td>\n",
              "      <td>HYBE LABELS</td>\n",
              "      <td>71,300,000</td>\n",
              "      <td>28,634,566,938</td>\n",
              "      <td>Music</td>\n",
              "      <td>Hybe Labels</td>\n",
              "      <td>1,337</td>\n",
              "      <td>South Korea</td>\n",
              "      <td>Music</td>\n",
              "    </tr>\n",
              "    <tr>\n",
              "      <th>21</th>\n",
              "      <td>22</td>\n",
              "      <td>Zee TV</td>\n",
              "      <td>70,500,000</td>\n",
              "      <td>73,139,054,467</td>\n",
              "      <td>Entertainment</td>\n",
              "      <td>Zee Tv</td>\n",
              "      <td>129,204</td>\n",
              "      <td>India</td>\n",
              "      <td>Entertainment</td>\n",
              "    </tr>\n",
              "    <tr>\n",
              "      <th>22</th>\n",
              "      <td>23</td>\n",
              "      <td>Pinkfong Baby Shark - Kids' Songs &amp; Stories</td>\n",
              "      <td>68,200,000</td>\n",
              "      <td>38,843,229,963</td>\n",
              "      <td>Education</td>\n",
              "      <td>Pinkfong Baby Shark - Kids' Songs &amp; Stories</td>\n",
              "      <td>2,865</td>\n",
              "      <td>United States</td>\n",
              "      <td>Education</td>\n",
              "    </tr>\n",
              "    <tr>\n",
              "      <th>23</th>\n",
              "      <td>24</td>\n",
              "      <td>Canal KondZilla</td>\n",
              "      <td>66,500,000</td>\n",
              "      <td>36,775,585,925</td>\n",
              "      <td>Music</td>\n",
              "      <td>Canal Kondzilla</td>\n",
              "      <td>2,572</td>\n",
              "      <td>Brazil</td>\n",
              "      <td>Music</td>\n",
              "    </tr>\n",
              "    <tr>\n",
              "      <th>24</th>\n",
              "      <td>25</td>\n",
              "      <td>ChuChu TV Nursery Rhymes &amp; Kids Songs</td>\n",
              "      <td>65,900,000</td>\n",
              "      <td>45,757,850,229</td>\n",
              "      <td>Education</td>\n",
              "      <td>Chuchu Tv Nursery Rhymes &amp; Kids Songs</td>\n",
              "      <td>633</td>\n",
              "      <td>India</td>\n",
              "      <td>Education</td>\n",
              "    </tr>\n",
              "  </tbody>\n",
              "</table>\n",
              "</div>\n",
              "    <div class=\"colab-df-buttons\">\n",
              "\n",
              "  <div class=\"colab-df-container\">\n",
              "    <button class=\"colab-df-convert\" onclick=\"convertToInteractive('df-1690c7e3-c9a4-4de5-80f2-edd52e59b6dc')\"\n",
              "            title=\"Convert this dataframe to an interactive table.\"\n",
              "            style=\"display:none;\">\n",
              "\n",
              "  <svg xmlns=\"http://www.w3.org/2000/svg\" height=\"24px\" viewBox=\"0 -960 960 960\">\n",
              "    <path d=\"M120-120v-720h720v720H120Zm60-500h600v-160H180v160Zm220 220h160v-160H400v160Zm0 220h160v-160H400v160ZM180-400h160v-160H180v160Zm440 0h160v-160H620v160ZM180-180h160v-160H180v160Zm440 0h160v-160H620v160Z\"/>\n",
              "  </svg>\n",
              "    </button>\n",
              "\n",
              "  <style>\n",
              "    .colab-df-container {\n",
              "      display:flex;\n",
              "      gap: 12px;\n",
              "    }\n",
              "\n",
              "    .colab-df-convert {\n",
              "      background-color: #E8F0FE;\n",
              "      border: none;\n",
              "      border-radius: 50%;\n",
              "      cursor: pointer;\n",
              "      display: none;\n",
              "      fill: #1967D2;\n",
              "      height: 32px;\n",
              "      padding: 0 0 0 0;\n",
              "      width: 32px;\n",
              "    }\n",
              "\n",
              "    .colab-df-convert:hover {\n",
              "      background-color: #E2EBFA;\n",
              "      box-shadow: 0px 1px 2px rgba(60, 64, 67, 0.3), 0px 1px 3px 1px rgba(60, 64, 67, 0.15);\n",
              "      fill: #174EA6;\n",
              "    }\n",
              "\n",
              "    .colab-df-buttons div {\n",
              "      margin-bottom: 4px;\n",
              "    }\n",
              "\n",
              "    [theme=dark] .colab-df-convert {\n",
              "      background-color: #3B4455;\n",
              "      fill: #D2E3FC;\n",
              "    }\n",
              "\n",
              "    [theme=dark] .colab-df-convert:hover {\n",
              "      background-color: #434B5C;\n",
              "      box-shadow: 0px 1px 3px 1px rgba(0, 0, 0, 0.15);\n",
              "      filter: drop-shadow(0px 1px 2px rgba(0, 0, 0, 0.3));\n",
              "      fill: #FFFFFF;\n",
              "    }\n",
              "  </style>\n",
              "\n",
              "    <script>\n",
              "      const buttonEl =\n",
              "        document.querySelector('#df-1690c7e3-c9a4-4de5-80f2-edd52e59b6dc button.colab-df-convert');\n",
              "      buttonEl.style.display =\n",
              "        google.colab.kernel.accessAllowed ? 'block' : 'none';\n",
              "\n",
              "      async function convertToInteractive(key) {\n",
              "        const element = document.querySelector('#df-1690c7e3-c9a4-4de5-80f2-edd52e59b6dc');\n",
              "        const dataTable =\n",
              "          await google.colab.kernel.invokeFunction('convertToInteractive',\n",
              "                                                    [key], {});\n",
              "        if (!dataTable) return;\n",
              "\n",
              "        const docLinkHtml = 'Like what you see? Visit the ' +\n",
              "          '<a target=\"_blank\" href=https://colab.research.google.com/notebooks/data_table.ipynb>data table notebook</a>'\n",
              "          + ' to learn more about interactive tables.';\n",
              "        element.innerHTML = '';\n",
              "        dataTable['output_type'] = 'display_data';\n",
              "        await google.colab.output.renderOutput(dataTable, element);\n",
              "        const docLink = document.createElement('div');\n",
              "        docLink.innerHTML = docLinkHtml;\n",
              "        element.appendChild(docLink);\n",
              "      }\n",
              "    </script>\n",
              "  </div>\n",
              "\n",
              "\n",
              "    <div id=\"df-f1ece742-7370-4956-b3c8-dd8a7f90e2cb\">\n",
              "      <button class=\"colab-df-quickchart\" onclick=\"quickchart('df-f1ece742-7370-4956-b3c8-dd8a7f90e2cb')\"\n",
              "                title=\"Suggest charts\"\n",
              "                style=\"display:none;\">\n",
              "\n",
              "<svg xmlns=\"http://www.w3.org/2000/svg\" height=\"24px\"viewBox=\"0 0 24 24\"\n",
              "     width=\"24px\">\n",
              "    <g>\n",
              "        <path d=\"M19 3H5c-1.1 0-2 .9-2 2v14c0 1.1.9 2 2 2h14c1.1 0 2-.9 2-2V5c0-1.1-.9-2-2-2zM9 17H7v-7h2v7zm4 0h-2V7h2v10zm4 0h-2v-4h2v4z\"/>\n",
              "    </g>\n",
              "</svg>\n",
              "      </button>\n",
              "\n",
              "<style>\n",
              "  .colab-df-quickchart {\n",
              "      --bg-color: #E8F0FE;\n",
              "      --fill-color: #1967D2;\n",
              "      --hover-bg-color: #E2EBFA;\n",
              "      --hover-fill-color: #174EA6;\n",
              "      --disabled-fill-color: #AAA;\n",
              "      --disabled-bg-color: #DDD;\n",
              "  }\n",
              "\n",
              "  [theme=dark] .colab-df-quickchart {\n",
              "      --bg-color: #3B4455;\n",
              "      --fill-color: #D2E3FC;\n",
              "      --hover-bg-color: #434B5C;\n",
              "      --hover-fill-color: #FFFFFF;\n",
              "      --disabled-bg-color: #3B4455;\n",
              "      --disabled-fill-color: #666;\n",
              "  }\n",
              "\n",
              "  .colab-df-quickchart {\n",
              "    background-color: var(--bg-color);\n",
              "    border: none;\n",
              "    border-radius: 50%;\n",
              "    cursor: pointer;\n",
              "    display: none;\n",
              "    fill: var(--fill-color);\n",
              "    height: 32px;\n",
              "    padding: 0;\n",
              "    width: 32px;\n",
              "  }\n",
              "\n",
              "  .colab-df-quickchart:hover {\n",
              "    background-color: var(--hover-bg-color);\n",
              "    box-shadow: 0 1px 2px rgba(60, 64, 67, 0.3), 0 1px 3px 1px rgba(60, 64, 67, 0.15);\n",
              "    fill: var(--button-hover-fill-color);\n",
              "  }\n",
              "\n",
              "  .colab-df-quickchart-complete:disabled,\n",
              "  .colab-df-quickchart-complete:disabled:hover {\n",
              "    background-color: var(--disabled-bg-color);\n",
              "    fill: var(--disabled-fill-color);\n",
              "    box-shadow: none;\n",
              "  }\n",
              "\n",
              "  .colab-df-spinner {\n",
              "    border: 2px solid var(--fill-color);\n",
              "    border-color: transparent;\n",
              "    border-bottom-color: var(--fill-color);\n",
              "    animation:\n",
              "      spin 1s steps(1) infinite;\n",
              "  }\n",
              "\n",
              "  @keyframes spin {\n",
              "    0% {\n",
              "      border-color: transparent;\n",
              "      border-bottom-color: var(--fill-color);\n",
              "      border-left-color: var(--fill-color);\n",
              "    }\n",
              "    20% {\n",
              "      border-color: transparent;\n",
              "      border-left-color: var(--fill-color);\n",
              "      border-top-color: var(--fill-color);\n",
              "    }\n",
              "    30% {\n",
              "      border-color: transparent;\n",
              "      border-left-color: var(--fill-color);\n",
              "      border-top-color: var(--fill-color);\n",
              "      border-right-color: var(--fill-color);\n",
              "    }\n",
              "    40% {\n",
              "      border-color: transparent;\n",
              "      border-right-color: var(--fill-color);\n",
              "      border-top-color: var(--fill-color);\n",
              "    }\n",
              "    60% {\n",
              "      border-color: transparent;\n",
              "      border-right-color: var(--fill-color);\n",
              "    }\n",
              "    80% {\n",
              "      border-color: transparent;\n",
              "      border-right-color: var(--fill-color);\n",
              "      border-bottom-color: var(--fill-color);\n",
              "    }\n",
              "    90% {\n",
              "      border-color: transparent;\n",
              "      border-bottom-color: var(--fill-color);\n",
              "    }\n",
              "  }\n",
              "</style>\n",
              "\n",
              "      <script>\n",
              "        async function quickchart(key) {\n",
              "          const quickchartButtonEl =\n",
              "            document.querySelector('#' + key + ' button');\n",
              "          quickchartButtonEl.disabled = true;  // To prevent multiple clicks.\n",
              "          quickchartButtonEl.classList.add('colab-df-spinner');\n",
              "          try {\n",
              "            const charts = await google.colab.kernel.invokeFunction(\n",
              "                'suggestCharts', [key], {});\n",
              "          } catch (error) {\n",
              "            console.error('Error during call to suggestCharts:', error);\n",
              "          }\n",
              "          quickchartButtonEl.classList.remove('colab-df-spinner');\n",
              "          quickchartButtonEl.classList.add('colab-df-quickchart-complete');\n",
              "        }\n",
              "        (() => {\n",
              "          let quickchartButtonEl =\n",
              "            document.querySelector('#df-f1ece742-7370-4956-b3c8-dd8a7f90e2cb button');\n",
              "          quickchartButtonEl.style.display =\n",
              "            google.colab.kernel.accessAllowed ? 'block' : 'none';\n",
              "        })();\n",
              "      </script>\n",
              "    </div>\n",
              "\n",
              "    </div>\n",
              "  </div>\n"
            ],
            "application/vnd.google.colaboratory.intrinsic+json": {
              "type": "dataframe",
              "summary": "{\n  \"name\": \"display(df_final\",\n  \"rows\": 20,\n  \"fields\": [\n    {\n      \"column\": \"rank\",\n      \"properties\": {\n        \"dtype\": \"number\",\n        \"std\": 7,\n        \"min\": 1,\n        \"max\": 25,\n        \"num_unique_values\": 20,\n        \"samples\": [\n          1,\n          23,\n          21\n        ],\n        \"semantic_type\": \"\",\n        \"description\": \"\"\n      }\n    },\n    {\n      \"column\": \"youtuber\",\n      \"properties\": {\n        \"dtype\": \"string\",\n        \"num_unique_values\": 20,\n        \"samples\": [\n          \"T-Series\",\n          \"Pinkfong Baby Shark - Kids' Songs & Stories\",\n          \"HYBE LABELS\"\n        ],\n        \"semantic_type\": \"\",\n        \"description\": \"\"\n      }\n    },\n    {\n      \"column\": \"subscribers_formatted\",\n      \"properties\": {\n        \"dtype\": \"string\",\n        \"num_unique_values\": 20,\n        \"samples\": [\n          \"245,000,000\",\n          \"68,200,000\",\n          \"71,300,000\"\n        ],\n        \"semantic_type\": \"\",\n        \"description\": \"\"\n      }\n    },\n    {\n      \"column\": \"video_views_formatted\",\n      \"properties\": {\n        \"dtype\": \"string\",\n        \"num_unique_values\": 20,\n        \"samples\": [\n          \"228,000,000,000\",\n          \"38,843,229,963\",\n          \"28,634,566,938\"\n        ],\n        \"semantic_type\": \"\",\n        \"description\": \"\"\n      }\n    },\n    {\n      \"column\": \"category_clean\",\n      \"properties\": {\n        \"dtype\": \"category\",\n        \"num_unique_values\": 8,\n        \"samples\": [\n          \"Entertainment\",\n          \"Gaming\",\n          \"Music\"\n        ],\n        \"semantic_type\": \"\",\n        \"description\": \"\"\n      }\n    },\n    {\n      \"column\": \"title_clean\",\n      \"properties\": {\n        \"dtype\": \"string\",\n        \"num_unique_values\": 20,\n        \"samples\": [\n          \"T-Series\",\n          \"Pinkfong Baby Shark - Kids' Songs & Stories\",\n          \"Hybe Labels\"\n        ],\n        \"semantic_type\": \"\",\n        \"description\": \"\"\n      }\n    },\n    {\n      \"column\": \"uploads_formatted\",\n      \"properties\": {\n        \"dtype\": \"string\",\n        \"num_unique_values\": 20,\n        \"samples\": [\n          \"20,082\",\n          \"2,865\",\n          \"1,337\"\n        ],\n        \"semantic_type\": \"\",\n        \"description\": \"\"\n      }\n    },\n    {\n      \"column\": \"country_clean\",\n      \"properties\": {\n        \"dtype\": \"category\",\n        \"num_unique_values\": 8,\n        \"samples\": [\n          \"United States\",\n          \"United Kingdom\",\n          \"India\"\n        ],\n        \"semantic_type\": \"\",\n        \"description\": \"\"\n      }\n    },\n    {\n      \"column\": \"channel_type_clean\",\n      \"properties\": {\n        \"dtype\": \"category\",\n        \"num_unique_values\": 5,\n        \"samples\": [\n          \"Entertainment\",\n          \"Sports\",\n          \"Education\"\n        ],\n        \"semantic_type\": \"\",\n        \"description\": \"\"\n      }\n    }\n  ]\n}"
            }
          },
          "metadata": {}
        }
      ]
    },
    {
      "cell_type": "code",
      "source": [
        "# Simpan ke CSV\n",
        "df_final.to_csv(\"youtubers_clean.csv\", index=False, encoding=\"utf-8-sig\")\n",
        "print(\"File CSV berhasil dibuat: youtubers_clean.csv\")\n"
      ],
      "metadata": {
        "colab": {
          "base_uri": "https://localhost:8080/"
        },
        "id": "JXU8tFoI30oA",
        "outputId": "abc24ac9-8b12-4b00-c7f3-c536e598ab2c"
      },
      "execution_count": 106,
      "outputs": [
        {
          "output_type": "stream",
          "name": "stdout",
          "text": [
            "File CSV berhasil dibuat: youtubers_clean.csv\n"
          ]
        }
      ]
    }
  ]
}